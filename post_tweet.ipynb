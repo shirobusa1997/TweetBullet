import config
import json
from requests_oauthlib import OAuth1Session

CONSUMER_KEY = config.consumer_key
CONSUMER_SECRET = config.consumer_secret
ACCESS_TOKEN = config.access_token
ACCESS_TOKEN_SECRET = config.access_token_secret
TWITTER_OAUTH = OAuth1Session(CONSUMER_KEY, CONSUMER_SECRET, ACCESS_TOKEN, ACCESS_TOKEN_SECRET)

RESOURCE_URL = "https://api.twitter.com/1.1/statuses/update.json"

print("Please input details of your posts.")
tweet = input('>> ')

param = {"status" : tweet}

res = TWITTER_OAUTH.post(RESOURCE_URL, params = param)

if res.status_code == 200:
	print("Comfirmed your post.")
else:
	print("Failed : %d"% res.status_code)
